{
 "cells": [
  {
   "cell_type": "code",
   "execution_count": 3,
   "id": "f84c0647",
   "metadata": {},
   "outputs": [],
   "source": [
    "# NumPy kutubxonasi\n",
    "# NumPyni chaqirib olish"
   ]
  },
  {
   "cell_type": "code",
   "execution_count": 4,
   "id": "a59371e1",
   "metadata": {},
   "outputs": [],
   "source": [
    "import numpy as np"
   ]
  },
  {
   "cell_type": "code",
   "execution_count": 5,
   "id": "9fb7c27d",
   "metadata": {},
   "outputs": [],
   "source": [
    "# arrayga misol"
   ]
  },
  {
   "cell_type": "code",
   "execution_count": 22,
   "id": "63fe278c",
   "metadata": {},
   "outputs": [],
   "source": [
    "_list = list(range(100000)) # pythondagi list 0~99999gacha (norm) \n",
    "_array = np.array(range(100000)) # numpy array 0~99999 (vektorlash)"
   ]
  },
  {
   "cell_type": "code",
   "execution_count": 23,
   "id": "e9bd1913",
   "metadata": {},
   "outputs": [
    {
     "name": "stdout",
     "output_type": "stream",
     "text": [
      "CPU times: user 53.7 ms, sys: 2.19 ms, total: 55.9 ms\n",
      "Wall time: 54.7 ms\n"
     ]
    }
   ],
   "source": [
    "# ikki usulni tezligini o'lchash\n",
    "%time for _ in range(10): [x*2 for x in _list]"
   ]
  },
  {
   "cell_type": "code",
   "execution_count": 24,
   "id": "aebeafe6",
   "metadata": {},
   "outputs": [
    {
     "name": "stdout",
     "output_type": "stream",
     "text": [
      "CPU times: user 1.26 ms, sys: 776 µs, total: 2.04 ms\n",
      "Wall time: 1.32 ms\n"
     ]
    }
   ],
   "source": [
    "%time for _ in range(10): _array*2"
   ]
  },
  {
   "cell_type": "code",
   "execution_count": 25,
   "id": "ad252a02",
   "metadata": {},
   "outputs": [
    {
     "data": {
      "text/plain": [
       "41.43939393939394"
      ]
     },
     "execution_count": 25,
     "metadata": {},
     "output_type": "execute_result"
    }
   ],
   "source": [
    "# natija\n",
    "54.7/1.32"
   ]
  },
  {
   "cell_type": "code",
   "execution_count": 26,
   "id": "31bc3af5",
   "metadata": {},
   "outputs": [],
   "source": [
    "# 41 numpy normga nisbatan 41.4 marotaba tez ekan!!!"
   ]
  }
 ],
 "metadata": {
  "kernelspec": {
   "display_name": "Python 3 (ipykernel)",
   "language": "python",
   "name": "python3"
  },
  "language_info": {
   "codemirror_mode": {
    "name": "ipython",
    "version": 3
   },
   "file_extension": ".py",
   "mimetype": "text/x-python",
   "name": "python",
   "nbconvert_exporter": "python",
   "pygments_lexer": "ipython3",
   "version": "3.9.12"
  }
 },
 "nbformat": 4,
 "nbformat_minor": 5
}
