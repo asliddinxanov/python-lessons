{
 "cells": [
  {
   "cell_type": "markdown",
   "id": "a2dbfbd4",
   "metadata": {},
   "source": [
    "# Boolean Indexing"
   ]
  },
  {
   "cell_type": "code",
   "execution_count": 1,
   "id": "ebf29a31",
   "metadata": {},
   "outputs": [],
   "source": [
    "import numpy as np"
   ]
  },
  {
   "cell_type": "code",
   "execution_count": 16,
   "id": "6d4604aa",
   "metadata": {},
   "outputs": [],
   "source": [
    "# names\n",
    "names = np.array(['Max', 'Jon', 'Lil', 'Park', 'Max', 'Mark'])"
   ]
  },
  {
   "cell_type": "code",
   "execution_count": 64,
   "id": "2f8c7b78",
   "metadata": {},
   "outputs": [
    {
     "data": {
      "text/plain": [
       "array([[ 0.14532149,  1.40522785, -1.23560226, -0.44874523],\n",
       "       [ 0.60497074, -0.61940993, -0.16413718,  0.95986636],\n",
       "       [ 0.4199986 , -1.4380679 ,  0.88936608,  1.72519475],\n",
       "       [-0.50458881,  0.29317082,  0.90363109,  0.62828452],\n",
       "       [-0.83676919, -0.72619652, -1.58175138, -0.91908758],\n",
       "       [ 1.6826376 , -0.37931113,  0.37271843,  0.10282926]])"
      ]
     },
     "execution_count": 64,
     "metadata": {},
     "output_type": "execute_result"
    }
   ],
   "source": [
    "data = np.random.randn(6, 4)\n",
    "data"
   ]
  },
  {
   "cell_type": "code",
   "execution_count": 54,
   "id": "6a85c863",
   "metadata": {},
   "outputs": [
    {
     "data": {
      "text/plain": [
       "array([[-0.09036496, -1.08829764, -1.02743119, -0.39707246],\n",
       "       [-0.6368737 ,  1.9062084 ,  2.31559788, -0.31080987]])"
      ]
     },
     "execution_count": 54,
     "metadata": {},
     "output_type": "execute_result"
    }
   ],
   "source": [
    "# Bir isimga tegishli ma'lumotni chiqarish.\n",
    "\n",
    "data[names == 'Max']   #'Max'ga tegishli ma'/tni chiqarsin"
   ]
  },
  {
   "cell_type": "code",
   "execution_count": 55,
   "id": "8e1886df",
   "metadata": {},
   "outputs": [
    {
     "data": {
      "text/plain": [
       "array([-1.68599829])"
      ]
     },
     "execution_count": 55,
     "metadata": {},
     "output_type": "execute_result"
    }
   ],
   "source": [
    "data[names == 'Park', 3] # Parkga tegishli ma'/tni 3indeksdagisini chiqarsin"
   ]
  },
  {
   "cell_type": "code",
   "execution_count": 56,
   "id": "76bed697",
   "metadata": {},
   "outputs": [
    {
     "data": {
      "text/plain": [
       "array([[ 2.13699215, -0.27486966]])"
      ]
     },
     "execution_count": 56,
     "metadata": {},
     "output_type": "execute_result"
    }
   ],
   "source": [
    "data[names == 'Mark', 2: ] #tegishili ma'/tni 2da keyingi xammasini chiqarsin"
   ]
  },
  {
   "cell_type": "code",
   "execution_count": 57,
   "id": "836928f3",
   "metadata": {},
   "outputs": [
    {
     "data": {
      "text/plain": [
       "array([[-0.24397417, -0.86046826,  0.65365226,  2.2414908 ],\n",
       "       [-1.11882012,  0.10213092,  2.05561798, -1.22385173],\n",
       "       [ 0.71241819,  0.03210813,  0.46168371, -1.68599829],\n",
       "       [ 1.7589255 , -1.16044096,  2.13699215, -0.27486966]])"
      ]
     },
     "execution_count": 57,
     "metadata": {},
     "output_type": "execute_result"
    }
   ],
   "source": [
    "# agar teng bo'lmasa \n",
    "\n",
    "data[names != 'Max'] # (!=) Maxga tegishli bo'lmagan ma'/tlarni chiqarsin"
   ]
  },
  {
   "cell_type": "code",
   "execution_count": 58,
   "id": "46f4c5a2",
   "metadata": {},
   "outputs": [
    {
     "data": {
      "text/plain": [
       "array([[-0.24397417, -0.86046826,  0.65365226,  2.2414908 ],\n",
       "       [-1.11882012,  0.10213092,  2.05561798, -1.22385173],\n",
       "       [ 0.71241819,  0.03210813,  0.46168371, -1.68599829],\n",
       "       [ 1.7589255 , -1.16044096,  2.13699215, -0.27486966]])"
      ]
     },
     "execution_count": 58,
     "metadata": {},
     "output_type": "execute_result"
    }
   ],
   "source": [
    "# yoki\n",
    "data[~(names == 'Max')] # (~) ham (!=) cell kabi bir xil natija beradi"
   ]
  },
  {
   "cell_type": "code",
   "execution_count": 59,
   "id": "63b493a0",
   "metadata": {},
   "outputs": [
    {
     "data": {
      "text/plain": [
       "array([[-0.24397417, -0.86046826,  0.65365226,  2.2414908 ],\n",
       "       [-1.11882012,  0.10213092,  2.05561798, -1.22385173]])"
      ]
     },
     "execution_count": 59,
     "metadata": {},
     "output_type": "execute_result"
    }
   ],
   "source": [
    "# 2 ta ismga tegishli ma'lumotni chiqarish\n",
    "\n",
    "mask = (names == 'Jon') | (names == 'Lil') \n",
    "data[mask] "
   ]
  },
  {
   "cell_type": "code",
   "execution_count": 65,
   "id": "265f8e61",
   "metadata": {},
   "outputs": [
    {
     "data": {
      "text/plain": [
       "array([[ 0.14532149,  1.40522785, -1.23560226, -0.44874523],\n",
       "       [ 0.60497074, -0.61940993, -0.16413718,  0.95986636],\n",
       "       [ 0.4199986 , -1.4380679 ,  0.88936608,  1.72519475],\n",
       "       [-0.50458881,  0.29317082,  0.90363109,  0.62828452],\n",
       "       [-0.83676919, -0.72619652, -1.58175138, -0.91908758],\n",
       "       [ 1.6826376 , -0.37931113,  0.37271843,  0.10282926]])"
      ]
     },
     "execution_count": 65,
     "metadata": {},
     "output_type": "execute_result"
    }
   ],
   "source": [
    "data"
   ]
  },
  {
   "cell_type": "code",
   "execution_count": 67,
   "id": "8bb41484",
   "metadata": {},
   "outputs": [
    {
     "data": {
      "text/plain": [
       "array([[0.14532149, 1.40522785, 0.        , 0.        ],\n",
       "       [0.60497074, 0.        , 0.        , 0.95986636],\n",
       "       [0.4199986 , 0.        , 0.88936608, 1.72519475],\n",
       "       [0.        , 0.29317082, 0.90363109, 0.62828452],\n",
       "       [0.        , 0.        , 0.        , 0.        ],\n",
       "       [1.6826376 , 0.        , 0.37271843, 0.10282926]])"
      ]
     },
     "execution_count": 67,
     "metadata": {},
     "output_type": "execute_result"
    }
   ],
   "source": [
    "data[data < 0] = 0 # 0dan kichik barcha ma'/tlarni 0ga tenglashtirsin\n",
    "data"
   ]
  },
  {
   "cell_type": "markdown",
   "id": "3b277a71",
   "metadata": {},
   "source": [
    "# Amaliy mashq"
   ]
  },
  {
   "cell_type": "code",
   "execution_count": 111,
   "id": "5f291c7f",
   "metadata": {},
   "outputs": [
    {
     "data": {
      "text/plain": [
       "array([[0, 1, 2],\n",
       "       [3, 4, 5],\n",
       "       [6, 7, 8]])"
      ]
     },
     "execution_count": 111,
     "metadata": {},
     "output_type": "execute_result"
    }
   ],
   "source": [
    "# 0dan 9 gacha bo'lgan 1qadamli shape(3,3)li massiv yaratish\n",
    "def nd_arange():\n",
    "    a = np.arange(9).reshape(3,3)\n",
    "    return a\n",
    "nd_arange()"
   ]
  },
  {
   "cell_type": "code",
   "execution_count": 112,
   "id": "b97f2188",
   "metadata": {},
   "outputs": [
    {
     "data": {
      "text/plain": [
       "array([6, 7])"
      ]
     },
     "execution_count": 112,
     "metadata": {},
     "output_type": "execute_result"
    }
   ],
   "source": [
    "# yuqoridagi massivni array[6,7] ni chiqarish\n",
    "def sliced_arr():\n",
    "    a = np.arange(9).reshape(3,3)\n",
    "    sl_arr = a[2, 0:2]\n",
    "    return sl_arr\n",
    "sliced_arr()"
   ]
  },
  {
   "cell_type": "code",
   "execution_count": 113,
   "id": "6cc783e1",
   "metadata": {},
   "outputs": [
    {
     "data": {
      "text/plain": [
       "array([[12, 13],\n",
       "       [15, 16]])"
      ]
     },
     "execution_count": 113,
     "metadata": {},
     "output_type": "execute_result"
    }
   ],
   "source": [
    "# 3d arraydan array[12,13][15,16] ni chiqarish\n",
    "def sl_arr_3d():\n",
    "    arr3d = np.array([[[ 0,  1,  2],\n",
    "                       [ 3,  4,  5],\n",
    "                       [ 6,  7,  8]],\n",
    "\n",
    "                      [[ 9, 10, 11],\n",
    "                       [12, 13, 14],\n",
    "                       [15, 16, 17]],\n",
    "\n",
    "                      [[18, 19, 20],\n",
    "                       [21, 22, 23],\n",
    "                       [24, 25, 26]]])\n",
    "    sl_arr = arr3d[1]\n",
    "    return sl_arr[1:3, 0:2]\n",
    "sl_arr_3d()"
   ]
  },
  {
   "cell_type": "code",
   "execution_count": 117,
   "id": "24003440",
   "metadata": {},
   "outputs": [
    {
     "data": {
      "text/plain": [
       "array([[7, 6, 8, 5],\n",
       "       [1, 3, 4, 5],\n",
       "       [7, 3, 7, 5],\n",
       "       [5, 7, 5, 1]])"
      ]
     },
     "execution_count": 117,
     "metadata": {},
     "output_type": "execute_result"
    }
   ],
   "source": [
    "#islmlarga tegishli ma'lumotlar!\n",
    "def boolean_sl():\n",
    "    names = np.array(['Hasan', 'Husan', 'Javohir', 'Elyor', 'Hasan', 'Javohir', 'Elyor'])\n",
    "    data =  np.array([[2,4,5,6],\n",
    "                      [4,6,8,5],\n",
    "                      [7,6,8,5],\n",
    "                      [1,3,4,5],\n",
    "                      [8,5,3,1],\n",
    "                      [7,3,7,5],\n",
    "                      [5,7,5,1]])\n",
    "    mask = (names == 'Javohir') | (names == 'Elyor')\n",
    "    return data[mask]\n",
    "boolean_sl()"
   ]
  }
 ],
 "metadata": {
  "kernelspec": {
   "display_name": "Python 3 (ipykernel)",
   "language": "python",
   "name": "python3"
  },
  "language_info": {
   "codemirror_mode": {
    "name": "ipython",
    "version": 3
   },
   "file_extension": ".py",
   "mimetype": "text/x-python",
   "name": "python",
   "nbconvert_exporter": "python",
   "pygments_lexer": "ipython3",
   "version": "3.9.7"
  }
 },
 "nbformat": 4,
 "nbformat_minor": 5
}
